{
  "nbformat": 4,
  "nbformat_minor": 0,
  "metadata": {
    "colab": {
      "provenance": []
    },
    "kernelspec": {
      "name": "python3",
      "display_name": "Python 3"
    },
    "language_info": {
      "name": "python"
    }
  },
  "cells": [
    {
      "cell_type": "code",
      "execution_count": null,
      "metadata": {
        "id": "WstBh7IywSx4",
        "colab": {
          "base_uri": "https://localhost:8080/"
        },
        "outputId": "93329a3c-8002-442e-b6ab-5c4e44049070"
      },
      "outputs": [
        {
          "output_type": "stream",
          "name": "stdout",
          "text": [
            "  Registration Number       Name  TT-1 Marks\n",
            "0               R1001  Student 1          15\n",
            "1               R1002  Student 2           6\n",
            "2               R1003  Student 3          17\n",
            "3               R1004  Student 4          20\n",
            "4               R1005  Student 5          20\n"
          ]
        }
      ],
      "source": [
        "# 1.\n",
        "\n",
        "import pandas as pd\n",
        "import random\n",
        "\n",
        "data = {\n",
        "    'Registration Number': [f'R{1000+i}' for i in range(1, 51)],\n",
        "    'Name': [f'Student {i}' for i in range(1, 51)],\n",
        "    'TT-1 Marks': [random.randint(0, 20) for _ in range(50)]\n",
        "}\n",
        "\n",
        "df = pd.DataFrame(data)\n",
        "df.to_csv('term-test-1-result.csv', index=False)\n",
        "\n",
        "print(df.head())\n"
      ]
    },
    {
      "cell_type": "code",
      "source": [
        "# 2.\n",
        "\n",
        "import pandas as pd\n",
        "import random\n",
        "\n",
        "data = {\n",
        "    'Registration Number': [f'R{1000+i}' for i in range(1, 51)],\n",
        "    'Name': [f'Student {i}' for i in range(1, 51)],\n",
        "    'TT-2 Marks': [random.randint(0, 20) for _ in range(50)]\n",
        "}\n",
        "\n",
        "df = pd.DataFrame(data)\n",
        "df.to_csv('term-test-2-result.csv', index=False)\n",
        "\n",
        "print(df.head())\n"
      ],
      "metadata": {
        "colab": {
          "base_uri": "https://localhost:8080/"
        },
        "id": "1F4mJUku2A-n",
        "outputId": "f2babecc-9dd5-49b0-ec27-c22b960820ba"
      },
      "execution_count": null,
      "outputs": [
        {
          "output_type": "stream",
          "name": "stdout",
          "text": [
            "  Registration Number       Name  TT-2 Marks\n",
            "0               R1001  Student 1          17\n",
            "1               R1002  Student 2          19\n",
            "2               R1003  Student 3           7\n",
            "3               R1004  Student 4           7\n",
            "4               R1005  Student 5          17\n"
          ]
        }
      ]
    },
    {
      "cell_type": "code",
      "source": [
        "# 3.\n",
        "\n",
        "import pandas as pd\n",
        "\n",
        "df_tt1 = pd.read_csv('term-test-1-result.csv')\n",
        "df_tt2 = pd.read_csv('term-test-2-result.csv')\n",
        "merged_df = pd.merge(df_tt1, df_tt2, on='Registration Number')\n",
        "\n",
        "print(merged_df.head())\n"
      ],
      "metadata": {
        "colab": {
          "base_uri": "https://localhost:8080/"
        },
        "id": "uWfQpsK92Ytr",
        "outputId": "67e5fbce-cb3f-4e06-aa2d-27138d654f44"
      },
      "execution_count": null,
      "outputs": [
        {
          "output_type": "stream",
          "name": "stdout",
          "text": [
            "  Registration Number     Name_x  TT-1 Marks     Name_y  TT-2 Marks\n",
            "0               R1001  Student 1          15  Student 1          17\n",
            "1               R1002  Student 2           6  Student 2          19\n",
            "2               R1003  Student 3          17  Student 3           7\n",
            "3               R1004  Student 4          20  Student 4           7\n",
            "4               R1005  Student 5          20  Student 5          17\n"
          ]
        }
      ]
    },
    {
      "cell_type": "code",
      "source": [
        "# 4.\n",
        "\n",
        "merged_df['Best Term Test Marks'] = merged_df[['TT-1 Marks', 'TT-2 Marks']].max(axis=1)\n",
        "merged_df['Average Term Test Marks'] = merged_df[['TT-1 Marks', 'TT-2 Marks']].mean(axis=1)\n",
        "\n",
        "print(merged_df.head())\n"
      ],
      "metadata": {
        "colab": {
          "base_uri": "https://localhost:8080/"
        },
        "id": "f-TtH-fl2nvC",
        "outputId": "2bb63dca-c1b3-47c7-ed98-e3cc121ba8c7"
      },
      "execution_count": null,
      "outputs": [
        {
          "output_type": "stream",
          "name": "stdout",
          "text": [
            "  Registration Number     Name_x  TT-1 Marks     Name_y  TT-2 Marks  \\\n",
            "0               R1001  Student 1          15  Student 1          17   \n",
            "1               R1002  Student 2           6  Student 2          19   \n",
            "2               R1003  Student 3          17  Student 3           7   \n",
            "3               R1004  Student 4          20  Student 4           7   \n",
            "4               R1005  Student 5          20  Student 5          17   \n",
            "\n",
            "   Best Term Test Marks  Average Term Test Marks  \n",
            "0                    17                     16.0  \n",
            "1                    19                     12.5  \n",
            "2                    17                     12.0  \n",
            "3                    20                     13.5  \n",
            "4                    20                     18.5  \n"
          ]
        }
      ]
    },
    {
      "cell_type": "code",
      "source": [
        "# 5.\n",
        "\n",
        "\n",
        "merged_df = merged_df.drop(columns=['TT-1 Marks', 'TT-2 Marks'])\n",
        "\n",
        "print(merged_df.head())\n"
      ],
      "metadata": {
        "colab": {
          "base_uri": "https://localhost:8080/"
        },
        "id": "XYxZNpPQ6_Ia",
        "outputId": "9f132500-0f5d-4193-d089-ba6c4b998c18"
      },
      "execution_count": null,
      "outputs": [
        {
          "output_type": "stream",
          "name": "stdout",
          "text": [
            "  Registration Number     Name_x     Name_y  Best Term Test Marks  \\\n",
            "0               R1001  Student 1  Student 1                    17   \n",
            "1               R1002  Student 2  Student 2                    19   \n",
            "2               R1003  Student 3  Student 3                    17   \n",
            "3               R1004  Student 4  Student 4                    20   \n",
            "4               R1005  Student 5  Student 5                    20   \n",
            "\n",
            "   Average Term Test Marks  \n",
            "0                     16.0  \n",
            "1                     12.5  \n",
            "2                     12.0  \n",
            "3                     13.5  \n",
            "4                     18.5  \n"
          ]
        }
      ]
    },
    {
      "cell_type": "code",
      "source": [
        "# 6.\n",
        "\n",
        "import pandas as pd\n",
        "import random\n",
        "\n",
        "attendance_data = {\n",
        "    'Registration Number': [f'R{1000+i}' for i in range(1, 51)],\n",
        "    'Attendance Marks': [random.randint(8, 10) for _ in range(50)],\n",
        "    'Term Final Marks': [random.randint(70, 100) for _ in range(50)]\n",
        "}\n",
        "\n",
        "attendance_df = pd.DataFrame(attendance_data)\n",
        "attendance_df.to_csv('attendance_term_final_marks.csv', index=False)\n",
        "attendance_df = pd.read_csv('attendance_term_final_marks.csv')\n",
        "\n",
        "final_df = pd.merge(merged_df, attendance_df, on='Registration Number')\n",
        "final_df['Final Marks'] = (final_df['Term Final Marks'] * 0.7) + final_df['Average Term Test Marks'] + final_df['Attendance Marks']\n",
        "\n",
        "print(final_df.head())\n"
      ],
      "metadata": {
        "colab": {
          "base_uri": "https://localhost:8080/"
        },
        "id": "Q5txZogM7e85",
        "outputId": "2c61c568-1fdc-4966-b72a-16e98081c920"
      },
      "execution_count": null,
      "outputs": [
        {
          "output_type": "stream",
          "name": "stdout",
          "text": [
            "  Registration Number     Name_x     Name_y  Best Term Test Marks  \\\n",
            "0               R1001  Student 1  Student 1                     9   \n",
            "1               R1002  Student 2  Student 2                    20   \n",
            "2               R1003  Student 3  Student 3                    13   \n",
            "3               R1004  Student 4  Student 4                    10   \n",
            "4               R1005  Student 5  Student 5                    19   \n",
            "\n",
            "   Average Term Test Marks  Attendance Marks  Term Final Marks  Final Marks  \n",
            "0                      7.5                10                72         67.9  \n",
            "1                     15.5                 8                89         85.8  \n",
            "2                      8.5                 8                79         71.8  \n",
            "3                      8.5                10               100         88.5  \n",
            "4                      9.5                 9                89         80.8  \n"
          ]
        }
      ]
    },
    {
      "cell_type": "code",
      "source": [
        "# 7.\n",
        "final_df.to_csv('final result.csv', index=False)\n",
        "\n",
        "print(\"The 'final result.csv' file has been saved successfully!\")\n"
      ],
      "metadata": {
        "colab": {
          "base_uri": "https://localhost:8080/"
        },
        "id": "K7sk5TPw70ZO",
        "outputId": "65641f46-653d-4a44-ea9a-67cdf45ffbb7"
      },
      "execution_count": null,
      "outputs": [
        {
          "output_type": "stream",
          "name": "stdout",
          "text": [
            "The 'final result.csv' file has been saved successfully!\n"
          ]
        }
      ]
    },
    {
      "cell_type": "code",
      "source": [
        "# 8.\n",
        "\n",
        "import pandas as pd\n",
        "import random\n",
        "from sklearn.cluster import KMeans\n",
        "import matplotlib.pyplot as plt\n",
        "\n",
        "final_marks = final_df[['Final Marks']]\n",
        "kmeans = KMeans(n_clusters=4, random_state=42)\n",
        "final_df['Cluster'] = kmeans.fit_predict(final_marks)\n",
        "\n",
        "plt.figure(figsize=(8, 6))\n",
        "plt.scatter(final_df.index, final_df['Final Marks'], c=final_df['Cluster'], cmap='viridis', marker='o')\n",
        "\n",
        "plt.title('K-Means Clustering of Final Marks', fontsize=14)\n",
        "plt.xlabel('Student Index', fontsize=12)\n",
        "plt.ylabel('Final Marks', fontsize=12)\n",
        "plt.colorbar(label='Cluster')\n",
        "\n",
        "plt.show()\n"
      ],
      "metadata": {
        "id": "BCzEWYf78Ck1",
        "outputId": "b840b205-5ab0-4220-b3d8-913cb708aff7",
        "colab": {
          "base_uri": "https://localhost:8080/",
          "height": 569
        }
      },
      "execution_count": null,
      "outputs": [
        {
          "output_type": "display_data",
          "data": {
            "text/plain": [
              "<Figure size 800x600 with 2 Axes>"
            ],
            "image/png": "[encoded data removed]"
          },
          "metadata": {}
        }
      ]
    }
  ]
}